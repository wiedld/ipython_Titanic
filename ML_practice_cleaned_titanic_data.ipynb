{
 "cells": [
  {
   "cell_type": "code",
   "execution_count": 53,
   "metadata": {
    "collapsed": false,
    "scrolled": true
   },
   "outputs": [
    {
     "name": "stdout",
     "output_type": "stream",
     "text": [
      "<class 'pandas.core.frame.DataFrame'>\n",
      "Int64Index: 891 entries, 0 to 890\n",
      "Data columns (total 12 columns):\n",
      "PassengerId    891 non-null int64\n",
      "Survived       891 non-null int64\n",
      "Pclass         891 non-null int64\n",
      "Name           891 non-null object\n",
      "Sex            891 non-null object\n",
      "Age            714 non-null float64\n",
      "SibSp          891 non-null int64\n",
      "Parch          891 non-null int64\n",
      "Ticket         891 non-null object\n",
      "Fare           891 non-null float64\n",
      "Cabin          204 non-null object\n",
      "Embarked       889 non-null object\n",
      "dtypes: float64(2), int64(5), object(5)\n",
      "memory usage: 90.5+ KB\n"
     ]
    }
   ],
   "source": [
    "import pandas as pd\n",
    "import numpy as np\n",
    "\n",
    "data = pd.read_csv('train.csv')\n",
    "data.info()\n",
    "# data.head()"
   ]
  },
  {
   "cell_type": "code",
   "execution_count": 54,
   "metadata": {
    "collapsed": true
   },
   "outputs": [],
   "source": [
    "########################## DATA CLEANING ########################\n",
    "\n",
    "# CABIN\n",
    "# fillin na for cabin\n",
    "# is a pattern in the cabin name, then create new col and/or dummies\n",
    "\n",
    "# SEX\n",
    "# convert male/female to boolean, (sex_bool, True/False, 1/0)\n",
    "# also try sex amped\n",
    "\n",
    "# Parch = if parent/child.\n",
    "# create a 1/0 column\n",
    "\n",
    "# SibSp\n",
    "# the binary column 0/1 seems to hurt k nearest neighbors score\n",
    "\n",
    "# PCLASS\n",
    "# covert Pclass to dummies\n",
    "\n",
    "# EMBARKED\n",
    "# see the numbers of uniques with Embarked\n",
    "# Embarked:\n",
    "    # convert to port names\n",
    "    # fillna as no port\n",
    "    # then convert Embarked to dummy values\n",
    "\n",
    "# AGE\n",
    "# describe() to see the avg age in certain groups. \n",
    "    # combos of sex, Pclass, Fare\n",
    "    # pick on with the lowest stdev    \n",
    "# then replace age NAs with the avg from the matching subgroup\n",
    "# if stdev of age is too high, then remove unknown ages\n",
    "\n",
    "# AGE --> child, adult, elder --> dummies\n",
    "# convert into a smaller amount of division, into fewer bins\n"
   ]
  },
  {
   "cell_type": "code",
   "execution_count": 55,
   "metadata": {
    "collapsed": false
   },
   "outputs": [
    {
     "data": {
      "text/plain": [
       "array(['no_cabin', 'C85', 'C123', 'E46', 'G6', 'C103', 'D56', 'A6',\n",
       "       'C23 C25 C27', 'B78', 'D33', 'B30', 'C52', 'B28', 'C83', 'F33',\n",
       "       'F G73', 'E31', 'A5', 'D10 D12', 'D26', 'C110', 'B58 B60', 'E101',\n",
       "       'F E69', 'D47', 'B86', 'F2', 'C2', 'E33', 'B19', 'A7', 'C49', 'F4',\n",
       "       'A32', 'B4', 'B80', 'A31', 'D36', 'D15', 'C93', 'C78', 'D35', 'C87',\n",
       "       'B77', 'E67', 'B94', 'C125', 'C99', 'C118', 'D7', 'A19', 'B49', 'D',\n",
       "       'C22 C26', 'C106', 'C65', 'E36', 'C54', 'B57 B59 B63 B66', 'C7',\n",
       "       'E34', 'C32', 'B18', 'C124', 'C91', 'E40', 'T', 'C128', 'D37',\n",
       "       'B35', 'E50', 'C82', 'B96 B98', 'E10', 'E44', 'A34', 'C104', 'C111',\n",
       "       'C92', 'E38', 'D21', 'E12', 'E63', 'A14', 'B37', 'C30', 'D20',\n",
       "       'B79', 'E25', 'D46', 'B73', 'C95', 'B38', 'B39', 'B22', 'C86',\n",
       "       'C70', 'A16', 'C101', 'C68', 'A10', 'E68', 'B41', 'A20', 'D19',\n",
       "       'D50', 'D9', 'A23', 'B50', 'A26', 'D48', 'E58', 'C126', 'B71',\n",
       "       'B51 B53 B55', 'D49', 'B5', 'B20', 'F G63', 'C62 C64', 'E24', 'C90',\n",
       "       'C45', 'E8', 'B101', 'D45', 'C46', 'D30', 'E121', 'D11', 'E77',\n",
       "       'F38', 'B3', 'D6', 'B82 B84', 'D17', 'A36', 'B102', 'B69', 'E49',\n",
       "       'C47', 'D28', 'E17', 'A24', 'C50', 'B42', 'C148'], dtype=object)"
      ]
     },
     "execution_count": 55,
     "metadata": {},
     "output_type": "execute_result"
    }
   ],
   "source": [
    "data.Cabin.fillna('no_cabin', inplace=True)\n",
    "data.Cabin.unique()"
   ]
  },
  {
   "cell_type": "code",
   "execution_count": 56,
   "metadata": {
    "collapsed": false
   },
   "outputs": [
    {
     "data": {
      "text/plain": [
       "array(['no_cabin', 'C', 'E', 'G', 'D', 'A', 'B', 'F', 'T'], dtype=object)"
      ]
     },
     "execution_count": 56,
     "metadata": {},
     "output_type": "execute_result"
    }
   ],
   "source": [
    "cabin_starts = [x[0] for x in data.Cabin]\n",
    "\n",
    "data['cabin_start'] = cabin_starts\n",
    "\n",
    "data.cabin_start.replace('n', \"no_cabin\", inplace=True)\n",
    "data.cabin_start.unique()"
   ]
  },
  {
   "cell_type": "code",
   "execution_count": 57,
   "metadata": {
    "collapsed": true
   },
   "outputs": [],
   "source": [
    "cabin_start_dummies = pd.get_dummies(data.cabin_start, prefix='cabin_start')\n",
    "\n",
    "data = pd.merge(data,cabin_start_dummies,left_index=True,right_index=True)\n"
   ]
  },
  {
   "cell_type": "code",
   "execution_count": 58,
   "metadata": {
    "collapsed": false
   },
   "outputs": [
    {
     "data": {
      "text/plain": [
       "array([0, 1, 2, 5, 3, 4, 6])"
      ]
     },
     "execution_count": 58,
     "metadata": {},
     "output_type": "execute_result"
    }
   ],
   "source": [
    "data.Parch.unique()\n"
   ]
  },
  {
   "cell_type": "code",
   "execution_count": 59,
   "metadata": {
    "collapsed": true
   },
   "outputs": [],
   "source": [
    "data['parch_binary'] = data.Parch\n",
    "data.parch_binary.replace([2, 5, 3, 4, 6],[1,1,1,1,1],inplace=True)\n"
   ]
  },
  {
   "cell_type": "code",
   "execution_count": 60,
   "metadata": {
    "collapsed": false
   },
   "outputs": [
    {
     "data": {
      "text/plain": [
       "array([1, 0, 3, 4, 2, 5, 8])"
      ]
     },
     "execution_count": 60,
     "metadata": {},
     "output_type": "execute_result"
    }
   ],
   "source": [
    "data.SibSp.unique()"
   ]
  },
  {
   "cell_type": "code",
   "execution_count": 61,
   "metadata": {
    "collapsed": true
   },
   "outputs": [],
   "source": [
    "data['SibSp_binary'] = data.SibSp\n",
    "data.SibSp_binary.replace([1, 0, 3, 4, 2, 5, 8],[0,0, 1, 1, 1, 1, 1],inplace=True)\n",
    "\n",
    "data['SibSp_amped'] = [x*0.5 for x in data.SibSp]"
   ]
  },
  {
   "cell_type": "code",
   "execution_count": 62,
   "metadata": {
    "collapsed": false
   },
   "outputs": [
    {
     "data": {
      "text/plain": [
       "array(['male', 'female'], dtype=object)"
      ]
     },
     "execution_count": 62,
     "metadata": {},
     "output_type": "execute_result"
    }
   ],
   "source": [
    "data.Sex.unique()"
   ]
  },
  {
   "cell_type": "code",
   "execution_count": 63,
   "metadata": {
    "collapsed": false,
    "scrolled": true
   },
   "outputs": [],
   "source": [
    "data['Sex_bool'] = data.Sex\n",
    "data.Sex_bool.replace(['male','female'],[1,0], inplace=True)\n",
    "\n",
    "data['sex_amped'] = [x*6 for x in data.Sex_bool]\n",
    "# data.info()"
   ]
  },
  {
   "cell_type": "code",
   "execution_count": 64,
   "metadata": {
    "collapsed": false
   },
   "outputs": [],
   "source": [
    "# data.Pclass.unique()\n",
    "class_dummies = pd.get_dummies(data.Pclass, prefix='Class')\n",
    "# class_dummies.head()\n",
    "data1 = pd.merge(data, class_dummies, left_index=True, right_index=True)\n",
    "# data1.info()"
   ]
  },
  {
   "cell_type": "code",
   "execution_count": 65,
   "metadata": {
    "collapsed": true
   },
   "outputs": [],
   "source": [
    "#  NO!  this hurt the k nearest neighbors result\n",
    "\n",
    "# try amping the p_class impact\n",
    "# data1['Class_1'] = [x*2 for x in data1.Class_1]\n",
    "# data1['Class_2'] = [x*2 for x in data1.Class_2]\n",
    "# data1['Class_3'] = [x*2 for x in data1.Class_3]\n"
   ]
  },
  {
   "cell_type": "code",
   "execution_count": 66,
   "metadata": {
    "collapsed": false
   },
   "outputs": [
    {
     "data": {
      "text/plain": [
       "array(['Southampton', 'Cherbourg', 'Queenstown', 'unknown'], dtype=object)"
      ]
     },
     "execution_count": 66,
     "metadata": {},
     "output_type": "execute_result"
    }
   ],
   "source": [
    "data1.Embarked.fillna('unknown',inplace=True)\n",
    "data1.Embarked.replace(['S','C','Q'],['Southampton','Cherbourg','Queenstown'], inplace=True)\n",
    "data1.Embarked.unique()"
   ]
  },
  {
   "cell_type": "code",
   "execution_count": 67,
   "metadata": {
    "collapsed": false
   },
   "outputs": [],
   "source": [
    "port_dummies = pd.get_dummies(data1.Embarked, prefix='Port')\n",
    "# port_dummies.head()\n",
    "data2 = pd.merge(data1, port_dummies, left_index=True, right_index=True)\n",
    "# data2.info()"
   ]
  },
  {
   "cell_type": "code",
   "execution_count": 68,
   "metadata": {
    "collapsed": false,
    "scrolled": false
   },
   "outputs": [
    {
     "data": {
      "text/plain": [
       "Pclass  Sex   \n",
       "1       female    13.612052\n",
       "        male      15.139570\n",
       "2       female    12.872702\n",
       "        male      14.793894\n",
       "3       female    12.729964\n",
       "        male      12.159514\n",
       "Name: Age, dtype: float64"
      ]
     },
     "execution_count": 68,
     "metadata": {},
     "output_type": "execute_result"
    }
   ],
   "source": [
    "# FIGURE OUT WHAT REPLACEMENT AGES TO USE\n",
    "\n",
    "df_have_ages = data2.dropna(subset=['Age'])\n",
    "df_have_ages.groupby(['Pclass','Sex'])['Age'].std()\n",
    "\n",
    "# CONCLUSION -- stdev on ages are too great. just exclude records with no age."
   ]
  },
  {
   "cell_type": "code",
   "execution_count": 69,
   "metadata": {
    "collapsed": false,
    "scrolled": false
   },
   "outputs": [
    {
     "name": "stdout",
     "output_type": "stream",
     "text": [
      "<class 'pandas.core.frame.DataFrame'>\n",
      "Int64Index: 714 entries, 0 to 890\n",
      "Data columns (total 40 columns):\n",
      "PassengerId             714 non-null int64\n",
      "Survived                714 non-null int64\n",
      "Pclass                  714 non-null int64\n",
      "Name                    714 non-null object\n",
      "Sex                     714 non-null object\n",
      "Age                     714 non-null float64\n",
      "SibSp                   714 non-null int64\n",
      "Parch                   714 non-null int64\n",
      "Ticket                  714 non-null object\n",
      "Fare                    714 non-null float64\n",
      "Cabin                   714 non-null object\n",
      "Embarked                714 non-null object\n",
      "cabin_start             714 non-null object\n",
      "cabin_start_A           714 non-null float64\n",
      "cabin_start_B           714 non-null float64\n",
      "cabin_start_C           714 non-null float64\n",
      "cabin_start_D           714 non-null float64\n",
      "cabin_start_E           714 non-null float64\n",
      "cabin_start_F           714 non-null float64\n",
      "cabin_start_G           714 non-null float64\n",
      "cabin_start_T           714 non-null float64\n",
      "cabin_start_no_cabin    714 non-null float64\n",
      "parch_binary            714 non-null int64\n",
      "SibSp_binary            714 non-null int64\n",
      "SibSp_amped             714 non-null float64\n",
      "Sex_bool                714 non-null int64\n",
      "sex_amped               714 non-null int64\n",
      "Class_1                 714 non-null float64\n",
      "Class_2                 714 non-null float64\n",
      "Class_3                 714 non-null float64\n",
      "Port_Cherbourg          714 non-null float64\n",
      "Port_Queenstown         714 non-null float64\n",
      "Port_Southampton        714 non-null float64\n",
      "Port_unknown            714 non-null float64\n",
      "age_group               714 non-null object\n",
      "age_adult               714 non-null float64\n",
      "age_baby                714 non-null float64\n",
      "age_child               714 non-null float64\n",
      "age_elder               714 non-null float64\n",
      "age_teen                714 non-null float64\n",
      "dtypes: float64(24), int64(9), object(7)\n",
      "memory usage: 228.7+ KB\n"
     ]
    }
   ],
   "source": [
    "data3 = df_have_ages.copy()\n",
    "\n",
    "# convert ages into baby (<=2), child(2<=x<13), teen(13<=x<18), adult, elder(>55)\n",
    "\n",
    "age_groups = []\n",
    "for age in data3.Age:\n",
    "    if age <= 2:\n",
    "        age_groups.append(\"baby\")\n",
    "    if age >2 and age < 13:\n",
    "        age_groups.append(\"child\")\n",
    "    if age >=13 and age <18 :\n",
    "        age_groups.append(\"teen\")\n",
    "    if age >=18 and age <55 :\n",
    "        age_groups.append(\"adult\")\n",
    "    if age >=55 :\n",
    "        age_groups.append(\"elder\")\n",
    "\n",
    "# print len(age_groups)\n",
    "data3['age_group'] = age_groups\n",
    "\n",
    "# convert to dummies\n",
    "age_dummies = pd.get_dummies(data3.age_group, prefix='age')\n",
    "data3 = pd.merge(data3, age_dummies, left_index=True, right_index=True)\n",
    "\n",
    "data3.info()"
   ]
  },
  {
   "cell_type": "code",
   "execution_count": 70,
   "metadata": {
    "collapsed": false
   },
   "outputs": [],
   "source": [
    "################### k_folds and cross-validation ###################"
   ]
  },
  {
   "cell_type": "code",
   "execution_count": 71,
   "metadata": {
    "collapsed": false
   },
   "outputs": [],
   "source": [
    "# our splitting of data, and cross validation\n",
    "from sklearn.cross_validation import KFold"
   ]
  },
  {
   "cell_type": "code",
   "execution_count": 72,
   "metadata": {
    "collapsed": true
   },
   "outputs": [],
   "source": [
    "# cross validation function with average score\n",
    "def cross_validate(features, target, classifier, k_fold) :\n",
    "\n",
    "    # derive a set of (random) training and testing indices\n",
    "    k_fold_indices = KFold(len(features), n_folds=k_fold,\n",
    "                           shuffle=True, random_state=0)\n",
    "\n",
    "    k_score_total = 0\n",
    "    \n",
    "    # for each training and testing slices run the classifier, and score the results\n",
    "    for train_slice, test_slice in k_fold_indices :\n",
    "\n",
    "        model = classifier(features[train_slice],\n",
    "                           target[train_slice])\n",
    "\n",
    "        k_score = model.score(features[test_slice],\n",
    "                              target[test_slice])\n",
    "\n",
    "        k_score_total += k_score\n",
    "\n",
    "    # return the average accuracy\n",
    "    return k_score_total/k_fold"
   ]
  },
  {
   "cell_type": "code",
   "execution_count": 73,
   "metadata": {
    "collapsed": true
   },
   "outputs": [],
   "source": [
    "################### k nearest neighbor ###################"
   ]
  },
  {
   "cell_type": "code",
   "execution_count": 74,
   "metadata": {
    "collapsed": false
   },
   "outputs": [],
   "source": [
    "# the model\n",
    "from sklearn.neighbors import KNeighborsClassifier"
   ]
  },
  {
   "cell_type": "code",
   "execution_count": 75,
   "metadata": {
    "collapsed": false
   },
   "outputs": [],
   "source": [
    "# which features to use for this model\n",
    "\n",
    "# TODO: data3.SibSp\n",
    "\n",
    "# 0.76193270735524254\n",
    "# features = zip(data3.SibSp, data3.parch_binary, data3.cabin_start_A, data3.cabin_start_B, data3.cabin_start_C, data3.cabin_start_D, data3.cabin_start_E, data3.cabin_start_F, data3.cabin_start_G, data3.cabin_start_T, data3.Sex_bool, data3.Class_1, data3.Class_2, data3.Class_3, data3.Port_Cherbourg, data3.Port_Queenstown, data3.Port_Southampton)\n",
    "\n",
    "# RESULT = ages as binary/dummies is important\n",
    "# 0.78159233176838805   added binary ages (dummies)\n",
    "# features = zip(data3.age_adult, data3.age_baby, data3.age_child, data3.age_elder, data3.age_teen, data3.SibSp, data3.parch_binary, data3.cabin_start_A, data3.cabin_start_B, data3.cabin_start_C, data3.cabin_start_D, data3.cabin_start_E, data3.cabin_start_F, data3.cabin_start_G, data3.cabin_start_T, data3.Sex_bool, data3.Class_1, data3.Class_2, data3.Class_3, data3.Port_Cherbourg, data3.Port_Queenstown, data3.Port_Southampton)\n",
    "\n",
    "# RESULT = removing ports was a good thing\n",
    "# 0.80397104851330192\n",
    "# features = zip(data3.age_adult, data3.age_baby, data3.age_child, data3.age_elder, data3.age_teen, data3.SibSp, data3.parch_binary, data3.cabin_start_A, data3.cabin_start_B, data3.cabin_start_C, data3.cabin_start_D, data3.cabin_start_E, data3.cabin_start_F, data3.cabin_start_G, data3.cabin_start_T, data3.Sex_bool, data3.Class_1, data3.Class_2, data3.Class_3)\n",
    "\n",
    "# RESULT = removing first letter cabins\n",
    "# 0.81107198748043818\n",
    "# features = zip(data3.age_adult, data3.age_baby, data3.age_child, data3.age_elder, data3.age_teen, data3.SibSp, data3.parch_binary, data3.Sex_bool, data3.Class_1, data3.Class_2, data3.Class_3)\n",
    "\n",
    "# RESULT = amplifying the gender impact\n",
    "# 0.81381064162754302 *3\n",
    "# 0.81666666666666665  *6  *12\n",
    "# features = zip(data3.age_adult, data3.age_baby, data3.age_child, data3.age_elder, data3.age_teen, data3.SibSp, data3.parch_binary, data3.sex_amped, data3.Class_1, data3.Class_2, data3.Class_3)\n",
    "\n",
    "# RESULT = added back in cabin letter\n",
    "# 0.8180164319248826\n",
    "features = zip(data3.age_adult, data3.age_baby, data3.age_child, data3.age_elder, data3.age_teen, data3.SibSp, data3.parch_binary, data3.sex_amped, data3.Class_1, data3.Class_2, data3.Class_3, data3.cabin_start_A, data3.cabin_start_B, data3.cabin_start_C, data3.cabin_start_D, data3.cabin_start_E, data3.cabin_start_F, data3.cabin_start_G, data3.cabin_start_T)\n",
    "\n",
    "\n",
    "\n",
    "features = zip(data3.age_adult, data3.age_baby, data3.age_child, data3.age_elder, data3.age_teen, data3.SibSp, data3.parch_binary, data3.sex_amped, data3.Class_1, data3.Class_2, data3.Class_3, data3.cabin_start_A, data3.cabin_start_B, data3.cabin_start_C, data3.cabin_start_D, data3.cabin_start_E, data3.cabin_start_F, data3.cabin_start_G, data3.cabin_start_T)\n",
    "\n",
    "\n",
    "# RESULT = SibSp_binary  dropped the score.  but, removing SibSp entirely will drop the score further\n",
    "# 0.79972613458528952 --> 0.78153364632237876 \n",
    "# features = zip(data3.age_adult, data3.age_baby, data3.age_child, data3.age_elder, data3.age_teen, data3.SibSp_binary, data3.parch_binary, data3.cabin_start_A, data3.cabin_start_B, data3.cabin_start_C, data3.cabin_start_D, data3.cabin_start_E, data3.cabin_start_F, data3.cabin_start_G, data3.cabin_start_T, data3.Sex_bool, data3.Class_1, data3.Class_2, data3.Class_3)\n",
    "\n",
    "\n",
    "\n",
    "features = np.array(features)\n",
    "\n",
    "# survived or not survived\n",
    "target = data3.Survived.values"
   ]
  },
  {
   "cell_type": "code",
   "execution_count": 76,
   "metadata": {
    "collapsed": false
   },
   "outputs": [
    {
     "data": {
      "text/plain": [
       "0.8180164319248826"
      ]
     },
     "execution_count": 76,
     "metadata": {},
     "output_type": "execute_result"
    }
   ],
   "source": [
    "# run model\n",
    "max_score = 0\n",
    "for neighbors in range(3,20):\n",
    "    new_score = cross_validate(features, target, KNeighborsClassifier(neighbors, weights='uniform').fit, 10)\n",
    "    max_score = max(max_score, new_score)\n",
    "    \n",
    "    # track the best number of neighbors\n",
    "    \n",
    "max_score"
   ]
  },
  {
   "cell_type": "code",
   "execution_count": 77,
   "metadata": {
    "collapsed": true
   },
   "outputs": [],
   "source": [
    "################### random forest ###################"
   ]
  },
  {
   "cell_type": "code",
   "execution_count": 78,
   "metadata": {
    "collapsed": false
   },
   "outputs": [],
   "source": [
    "# model\n",
    "from sklearn.ensemble import RandomForestClassifier"
   ]
  },
  {
   "cell_type": "code",
   "execution_count": 79,
   "metadata": {
    "collapsed": true
   },
   "outputs": [],
   "source": [
    "# selecting features for model"
   ]
  },
  {
   "cell_type": "code",
   "execution_count": 80,
   "metadata": {
    "collapsed": false
   },
   "outputs": [
    {
     "data": {
      "text/plain": [
       "0.79704616588419408"
      ]
     },
     "execution_count": 80,
     "metadata": {},
     "output_type": "execute_result"
    }
   ],
   "source": [
    "# run model\n",
    "model = RandomForestClassifier(random_state=0).fit\n",
    "\n",
    "cross_validate(features, target, model, 10)"
   ]
  },
  {
   "cell_type": "code",
   "execution_count": null,
   "metadata": {
    "collapsed": true
   },
   "outputs": [],
   "source": []
  },
  {
   "cell_type": "code",
   "execution_count": null,
   "metadata": {
    "collapsed": true
   },
   "outputs": [],
   "source": []
  },
  {
   "cell_type": "code",
   "execution_count": null,
   "metadata": {
    "collapsed": true
   },
   "outputs": [],
   "source": []
  },
  {
   "cell_type": "code",
   "execution_count": null,
   "metadata": {
    "collapsed": true
   },
   "outputs": [],
   "source": []
  },
  {
   "cell_type": "code",
   "execution_count": null,
   "metadata": {
    "collapsed": true
   },
   "outputs": [],
   "source": []
  }
 ],
 "metadata": {
  "kernelspec": {
   "display_name": "Python 2",
   "language": "python",
   "name": "python2"
  },
  "language_info": {
   "codemirror_mode": {
    "name": "ipython",
    "version": 2
   },
   "file_extension": ".py",
   "mimetype": "text/x-python",
   "name": "python",
   "nbconvert_exporter": "python",
   "pygments_lexer": "ipython2",
   "version": "2.7.10"
  }
 },
 "nbformat": 4,
 "nbformat_minor": 0
}
